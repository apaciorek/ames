{
 "cells": [
  {
   "cell_type": "code",
   "execution_count": 40,
   "metadata": {},
   "outputs": [],
   "source": [
    "#### Loading the packages to be used\n",
    "from __future__ import print_function  # Python 2 and 3\n",
    "import numpy as np\n",
    "import pandas as pd\n",
    "from scipy import stats\n",
    "import matplotlib.pyplot as plt\n",
    "from scipy import stats\n",
    "import os\n",
    "%matplotlib inline\n",
    "plt.style.use('ggplot')\n",
    "np.random.seed(0)"
   ]
  },
  {
   "cell_type": "code",
   "execution_count": 41,
   "metadata": {},
   "outputs": [],
   "source": [
    "from sklearn import linear_model\n",
    "ols = linear_model.LinearRegression()"
   ]
  },
  {
   "cell_type": "code",
   "execution_count": 42,
   "metadata": {},
   "outputs": [],
   "source": [
    "os.chdir(\"/Users/ptero793/Desktop/house_prices\")\n",
    "data = pd.read_csv(\"train.csv\")"
   ]
  },
  {
   "cell_type": "code",
   "execution_count": 43,
   "metadata": {},
   "outputs": [
    {
     "data": {
      "text/plain": [
       "Index(['Id', 'MSSubClass', 'MSZoning', 'LotFrontage', 'LotArea', 'Street',\n",
       "       'Alley', 'LotShape', 'LandContour', 'Utilities', 'LotConfig',\n",
       "       'LandSlope', 'Neighborhood', 'Condition1', 'Condition2', 'BldgType',\n",
       "       'HouseStyle', 'OverallQual', 'OverallCond', 'YearBuilt', 'YearRemodAdd',\n",
       "       'RoofStyle', 'RoofMatl', 'Exterior1st', 'Exterior2nd', 'MasVnrType',\n",
       "       'MasVnrArea', 'ExterQual', 'ExterCond', 'Foundation', 'BsmtQual',\n",
       "       'BsmtCond', 'BsmtExposure', 'BsmtFinType1', 'BsmtFinSF1',\n",
       "       'BsmtFinType2', 'BsmtFinSF2', 'BsmtUnfSF', 'TotalBsmtSF', 'Heating',\n",
       "       'HeatingQC', 'CentralAir', 'Electrical', '1stFlrSF', '2ndFlrSF',\n",
       "       'LowQualFinSF', 'GrLivArea', 'BsmtFullBath', 'BsmtHalfBath', 'FullBath',\n",
       "       'HalfBath', 'BedroomAbvGr', 'KitchenAbvGr', 'KitchenQual',\n",
       "       'TotRmsAbvGrd', 'Functional', 'Fireplaces', 'FireplaceQu', 'GarageType',\n",
       "       'GarageYrBlt', 'GarageFinish', 'GarageCars', 'GarageArea', 'GarageQual',\n",
       "       'GarageCond', 'PavedDrive', 'WoodDeckSF', 'OpenPorchSF',\n",
       "       'EnclosedPorch', '3SsnPorch', 'ScreenPorch', 'PoolArea', 'PoolQC',\n",
       "       'Fence', 'MiscFeature', 'MiscVal', 'MoSold', 'YrSold', 'SaleType',\n",
       "       'SaleCondition', 'SalePrice'],\n",
       "      dtype='object')"
      ]
     },
     "execution_count": 43,
     "metadata": {},
     "output_type": "execute_result"
    }
   ],
   "source": [
    "data.columns"
   ]
  },
  {
   "cell_type": "code",
   "execution_count": 44,
   "metadata": {},
   "outputs": [
    {
     "data": {
      "text/plain": [
       "1Fam      1220\n",
       "TwnhsE     114\n",
       "Duplex      52\n",
       "Twnhs       43\n",
       "2fmCon      31\n",
       "Name: BldgType, dtype: int64"
      ]
     },
     "execution_count": 44,
     "metadata": {},
     "output_type": "execute_result"
    }
   ],
   "source": [
    "data.BldgType.value_counts()"
   ]
  },
  {
   "cell_type": "code",
   "execution_count": 45,
   "metadata": {},
   "outputs": [],
   "source": [
    "df=data.copy()"
   ]
  },
  {
   "cell_type": "markdown",
   "metadata": {},
   "source": [
    "Adding Indoor Square footage together to get full house SF (excluding outdoor)"
   ]
  },
  {
   "cell_type": "code",
   "execution_count": 46,
   "metadata": {},
   "outputs": [],
   "source": [
    "df['Total_size']= df['BsmtFinSF1']+ df['BsmtFinSF2'] + df['1stFlrSF'] +df['2ndFlrSF']+df['GarageArea']\n",
    "\n"
   ]
  },
  {
   "cell_type": "code",
   "execution_count": 47,
   "metadata": {},
   "outputs": [],
   "source": [
    "#create a helper for bldgtype\n",
    "def helper(x):\n",
    "    if x.BldgType == \"TwnhsE\":\n",
    "        return 'Twnhs'\n",
    "    else:\n",
    "        return x.BldgType"
   ]
  },
  {
   "cell_type": "code",
   "execution_count": 48,
   "metadata": {},
   "outputs": [],
   "source": [
    "def helper(x):\n",
    "    if x.BldgType == \"TwnhsE\":\n",
    "        return 'Twnhs'\n",
    "    else:\n",
    "        return x.BldgType\n",
    "\n",
    "df['BldgType_clean']=df.apply(helper,axis=1)\n",
    "\n"
   ]
  },
  {
   "cell_type": "code",
   "execution_count": 49,
   "metadata": {},
   "outputs": [
    {
     "data": {
      "text/html": [
       "<div>\n",
       "<style scoped>\n",
       "    .dataframe tbody tr th:only-of-type {\n",
       "        vertical-align: middle;\n",
       "    }\n",
       "\n",
       "    .dataframe tbody tr th {\n",
       "        vertical-align: top;\n",
       "    }\n",
       "\n",
       "    .dataframe thead th {\n",
       "        text-align: right;\n",
       "    }\n",
       "</style>\n",
       "<table border=\"1\" class=\"dataframe\">\n",
       "  <thead>\n",
       "    <tr style=\"text-align: right;\">\n",
       "      <th></th>\n",
       "      <th>LotArea</th>\n",
       "      <th>Total_size</th>\n",
       "      <th>WoodDeckSF</th>\n",
       "      <th>OpenPorchSF</th>\n",
       "      <th>PoolArea</th>\n",
       "    </tr>\n",
       "  </thead>\n",
       "  <tbody>\n",
       "    <tr>\n",
       "      <th>0</th>\n",
       "      <td>8450</td>\n",
       "      <td>2964</td>\n",
       "      <td>0</td>\n",
       "      <td>61</td>\n",
       "      <td>0</td>\n",
       "    </tr>\n",
       "    <tr>\n",
       "      <th>1</th>\n",
       "      <td>9600</td>\n",
       "      <td>2700</td>\n",
       "      <td>298</td>\n",
       "      <td>0</td>\n",
       "      <td>0</td>\n",
       "    </tr>\n",
       "    <tr>\n",
       "      <th>2</th>\n",
       "      <td>11250</td>\n",
       "      <td>2880</td>\n",
       "      <td>0</td>\n",
       "      <td>42</td>\n",
       "      <td>0</td>\n",
       "    </tr>\n",
       "    <tr>\n",
       "      <th>3</th>\n",
       "      <td>9550</td>\n",
       "      <td>2575</td>\n",
       "      <td>0</td>\n",
       "      <td>35</td>\n",
       "      <td>0</td>\n",
       "    </tr>\n",
       "    <tr>\n",
       "      <th>4</th>\n",
       "      <td>14260</td>\n",
       "      <td>3689</td>\n",
       "      <td>192</td>\n",
       "      <td>84</td>\n",
       "      <td>0</td>\n",
       "    </tr>\n",
       "    <tr>\n",
       "      <th>...</th>\n",
       "      <td>...</td>\n",
       "      <td>...</td>\n",
       "      <td>...</td>\n",
       "      <td>...</td>\n",
       "      <td>...</td>\n",
       "    </tr>\n",
       "    <tr>\n",
       "      <th>1455</th>\n",
       "      <td>7917</td>\n",
       "      <td>2107</td>\n",
       "      <td>0</td>\n",
       "      <td>40</td>\n",
       "      <td>0</td>\n",
       "    </tr>\n",
       "    <tr>\n",
       "      <th>1456</th>\n",
       "      <td>13175</td>\n",
       "      <td>3526</td>\n",
       "      <td>349</td>\n",
       "      <td>0</td>\n",
       "      <td>0</td>\n",
       "    </tr>\n",
       "    <tr>\n",
       "      <th>1457</th>\n",
       "      <td>9042</td>\n",
       "      <td>2867</td>\n",
       "      <td>0</td>\n",
       "      <td>60</td>\n",
       "      <td>0</td>\n",
       "    </tr>\n",
       "    <tr>\n",
       "      <th>1458</th>\n",
       "      <td>9717</td>\n",
       "      <td>2396</td>\n",
       "      <td>366</td>\n",
       "      <td>0</td>\n",
       "      <td>0</td>\n",
       "    </tr>\n",
       "    <tr>\n",
       "      <th>1459</th>\n",
       "      <td>9937</td>\n",
       "      <td>2652</td>\n",
       "      <td>736</td>\n",
       "      <td>68</td>\n",
       "      <td>0</td>\n",
       "    </tr>\n",
       "  </tbody>\n",
       "</table>\n",
       "<p>1460 rows × 5 columns</p>\n",
       "</div>"
      ],
      "text/plain": [
       "      LotArea  Total_size  WoodDeckSF  OpenPorchSF  PoolArea\n",
       "0        8450        2964           0           61         0\n",
       "1        9600        2700         298            0         0\n",
       "2       11250        2880           0           42         0\n",
       "3        9550        2575           0           35         0\n",
       "4       14260        3689         192           84         0\n",
       "...       ...         ...         ...          ...       ...\n",
       "1455     7917        2107           0           40         0\n",
       "1456    13175        3526         349            0         0\n",
       "1457     9042        2867           0           60         0\n",
       "1458     9717        2396         366            0         0\n",
       "1459     9937        2652         736           68         0\n",
       "\n",
       "[1460 rows x 5 columns]"
      ]
     },
     "execution_count": 49,
     "metadata": {},
     "output_type": "execute_result"
    }
   ],
   "source": [
    "df[['LotArea','Total_size','WoodDeckSF','OpenPorchSF','PoolArea']]"
   ]
  },
  {
   "cell_type": "code",
   "execution_count": 50,
   "metadata": {},
   "outputs": [],
   "source": [
    "df['Outdoor_Porch_Size']= df['WoodDeckSF']+df['OpenPorchSF']\n"
   ]
  },
  {
   "cell_type": "markdown",
   "metadata": {},
   "source": [
    "Adding helper functions to combine 2 columns (remodel year,year built) to redefine \"age_at_sale\" - a single column to account for house at the time of sale. We subtract the most recent year of construction from the year of sale to get the homes age in years"
   ]
  },
  {
   "cell_type": "code",
   "execution_count": 51,
   "metadata": {},
   "outputs": [],
   "source": [
    "# #helper_1\n",
    "# def recent_constr(x):\n",
    "#     if(x.YearBuilt < x.YearRemodAdd):\n",
    "#         return x.YearRemodAdd\n",
    "#     else: \n",
    "#         return x.YearBuilt\n",
    "\n",
    "# #defining intermediate column    \n",
    "# df['time_remod'] = data.apply(recent_constr,axis=1)\n",
    "\n",
    "#helper 2\n",
    "def recent_constr(x):\n",
    "    if(x.YearBuilt < x.YearRemodAdd):\n",
    "        return x.YearRemodAdd\n",
    "    else: \n",
    "        return x.YearBuilt\n",
    "\n",
    "#defining intermediate column 2    \n",
    "df['Recent_yr'] = df.apply(recent_constr,axis=1)\n",
    "\n",
    "#time to sale helper defined:\n",
    "def time_to_sale(x):\n",
    "    return x.YrSold - x.Recent_yr\n",
    "\n",
    "#new column defined to be used in Train\n",
    "df['Age_at_sale']=df.apply(time_to_sale,axis=1)"
   ]
  },
  {
   "cell_type": "markdown",
   "metadata": {},
   "source": [
    "Taking log Transform of target variable (SalePrice):"
   ]
  },
  {
   "cell_type": "code",
   "execution_count": 52,
   "metadata": {},
   "outputs": [],
   "source": [
    "df['log_sales']=np.log(df['SalePrice'])\n",
    "\n"
   ]
  },
  {
   "cell_type": "code",
   "execution_count": 53,
   "metadata": {},
   "outputs": [],
   "source": [
    "model2_df = df[['Total_size','LotArea','Neighborhood','BldgType_clean','OverallQual','Age_at_sale','ExterQual',\n",
    "                'Outdoor_Porch_Size','YrSold']]"
   ]
  },
  {
   "cell_type": "code",
   "execution_count": 54,
   "metadata": {},
   "outputs": [
    {
     "data": {
      "text/plain": [
       "Index(['Total_size', 'LotArea', 'Neighborhood', 'BldgType_clean',\n",
       "       'OverallQual', 'Age_at_sale', 'ExterQual', 'Outdoor_Porch_Size',\n",
       "       'YrSold'],\n",
       "      dtype='object')"
      ]
     },
     "execution_count": 54,
     "metadata": {},
     "output_type": "execute_result"
    }
   ],
   "source": [
    "model2_df.columns\n"
   ]
  },
  {
   "cell_type": "code",
   "execution_count": 55,
   "metadata": {},
   "outputs": [
    {
     "data": {
      "text/html": [
       "<div>\n",
       "<style scoped>\n",
       "    .dataframe tbody tr th:only-of-type {\n",
       "        vertical-align: middle;\n",
       "    }\n",
       "\n",
       "    .dataframe tbody tr th {\n",
       "        vertical-align: top;\n",
       "    }\n",
       "\n",
       "    .dataframe thead th {\n",
       "        text-align: right;\n",
       "    }\n",
       "</style>\n",
       "<table border=\"1\" class=\"dataframe\">\n",
       "  <thead>\n",
       "    <tr style=\"text-align: right;\">\n",
       "      <th></th>\n",
       "      <th>Total_size</th>\n",
       "      <th>LotArea</th>\n",
       "      <th>Neighborhood</th>\n",
       "      <th>BldgType_clean</th>\n",
       "      <th>OverallQual</th>\n",
       "      <th>Age_at_sale</th>\n",
       "      <th>ExterQual</th>\n",
       "      <th>Outdoor_Porch_Size</th>\n",
       "      <th>YrSold</th>\n",
       "    </tr>\n",
       "  </thead>\n",
       "  <tbody>\n",
       "    <tr>\n",
       "      <th>0</th>\n",
       "      <td>2964</td>\n",
       "      <td>8450</td>\n",
       "      <td>CollgCr</td>\n",
       "      <td>1Fam</td>\n",
       "      <td>7</td>\n",
       "      <td>5</td>\n",
       "      <td>Gd</td>\n",
       "      <td>61</td>\n",
       "      <td>2008</td>\n",
       "    </tr>\n",
       "    <tr>\n",
       "      <th>1</th>\n",
       "      <td>2700</td>\n",
       "      <td>9600</td>\n",
       "      <td>Veenker</td>\n",
       "      <td>1Fam</td>\n",
       "      <td>6</td>\n",
       "      <td>31</td>\n",
       "      <td>TA</td>\n",
       "      <td>298</td>\n",
       "      <td>2007</td>\n",
       "    </tr>\n",
       "    <tr>\n",
       "      <th>2</th>\n",
       "      <td>2880</td>\n",
       "      <td>11250</td>\n",
       "      <td>CollgCr</td>\n",
       "      <td>1Fam</td>\n",
       "      <td>7</td>\n",
       "      <td>6</td>\n",
       "      <td>Gd</td>\n",
       "      <td>42</td>\n",
       "      <td>2008</td>\n",
       "    </tr>\n",
       "    <tr>\n",
       "      <th>3</th>\n",
       "      <td>2575</td>\n",
       "      <td>9550</td>\n",
       "      <td>Crawfor</td>\n",
       "      <td>1Fam</td>\n",
       "      <td>7</td>\n",
       "      <td>36</td>\n",
       "      <td>TA</td>\n",
       "      <td>35</td>\n",
       "      <td>2006</td>\n",
       "    </tr>\n",
       "    <tr>\n",
       "      <th>4</th>\n",
       "      <td>3689</td>\n",
       "      <td>14260</td>\n",
       "      <td>NoRidge</td>\n",
       "      <td>1Fam</td>\n",
       "      <td>8</td>\n",
       "      <td>8</td>\n",
       "      <td>Gd</td>\n",
       "      <td>276</td>\n",
       "      <td>2008</td>\n",
       "    </tr>\n",
       "  </tbody>\n",
       "</table>\n",
       "</div>"
      ],
      "text/plain": [
       "   Total_size  LotArea Neighborhood BldgType_clean  OverallQual  Age_at_sale  \\\n",
       "0        2964     8450      CollgCr           1Fam            7            5   \n",
       "1        2700     9600      Veenker           1Fam            6           31   \n",
       "2        2880    11250      CollgCr           1Fam            7            6   \n",
       "3        2575     9550      Crawfor           1Fam            7           36   \n",
       "4        3689    14260      NoRidge           1Fam            8            8   \n",
       "\n",
       "  ExterQual  Outdoor_Porch_Size  YrSold  \n",
       "0        Gd                  61    2008  \n",
       "1        TA                 298    2007  \n",
       "2        Gd                  42    2008  \n",
       "3        TA                  35    2006  \n",
       "4        Gd                 276    2008  "
      ]
     },
     "execution_count": 55,
     "metadata": {},
     "output_type": "execute_result"
    }
   ],
   "source": [
    "model2_df.head()\n"
   ]
  },
  {
   "cell_type": "code",
   "execution_count": 56,
   "metadata": {},
   "outputs": [],
   "source": [
    "from sklearn.preprocessing import OneHotEncoder"
   ]
  },
  {
   "cell_type": "code",
   "execution_count": 57,
   "metadata": {},
   "outputs": [
    {
     "data": {
      "text/plain": [
       "Index(['Total_size', 'LotArea', 'Neighborhood', 'BldgType_clean',\n",
       "       'OverallQual', 'Age_at_sale', 'ExterQual', 'Outdoor_Porch_Size',\n",
       "       'YrSold'],\n",
       "      dtype='object')"
      ]
     },
     "execution_count": 57,
     "metadata": {},
     "output_type": "execute_result"
    }
   ],
   "source": [
    "model2_df.columns"
   ]
  },
  {
   "cell_type": "markdown",
   "metadata": {},
   "source": [
    "One Hot Encoding for categorical variable"
   ]
  },
  {
   "cell_type": "code",
   "execution_count": 58,
   "metadata": {},
   "outputs": [],
   "source": [
    "# dummify Neighborhood column\n",
    "Neighborhood_ohe = OneHotEncoder( drop='first', sparse = False )\n",
    "Neighborhood_enc = Neighborhood_ohe.fit_transform( model2_df[['Neighborhood']] )\n",
    "Neighborhood_enc = pd.DataFrame( Neighborhood_enc, columns=Neighborhood_ohe.get_feature_names(['Neighborhood']) )\n",
    "model2_df = pd.concat( (model2_df.drop([\"Neighborhood\"], axis=1).reset_index(drop = True), Neighborhood_enc), axis = 1 )\n",
    "\n",
    "#dummify Building Type\n",
    "\n",
    "BldgType_clean_ohe = OneHotEncoder( drop='first', sparse = False )\n",
    "BldgType_clean_enc = BldgType_clean_ohe.fit_transform( model2_df[['BldgType_clean']] )\n",
    "BldgType_clean_enc = pd.DataFrame( BldgType_clean_enc, columns=BldgType_clean_ohe.get_feature_names(['BldgType_clean']) )\n",
    "model2_df = pd.concat( (model2_df.drop([\"BldgType_clean\"], axis=1).reset_index(drop = True), BldgType_clean_enc), axis = 1 )\n",
    "\n",
    "\n",
    "#dummify ExterQual\n",
    "\n",
    "ExterQual_ohe = OneHotEncoder( drop='first', sparse = False )\n",
    "ExterQual_enc = ExterQual_ohe.fit_transform( model2_df[['ExterQual']] )\n",
    "ExterQual_enc = pd.DataFrame( ExterQual_enc, columns=ExterQual_ohe.get_feature_names(['ExterQual']) )\n",
    "model2_df = pd.concat( (model2_df.drop([\"ExterQual\"], axis=1).reset_index(drop = True), ExterQual_enc), axis = 1 )\n",
    "\n",
    "\n",
    "\n",
    "#dummify YrSold\n",
    "\n",
    "YrSold_ohe = OneHotEncoder( drop='first', sparse = False )\n",
    "YrSold_enc = YrSold_ohe.fit_transform( model2_df[['YrSold']] )\n",
    "YrSold_enc = pd.DataFrame( YrSold_enc, columns=YrSold_ohe.get_feature_names(['YrSold']) )\n",
    "model2_df = pd.concat( (model2_df.drop([\"YrSold\"], axis=1).reset_index(drop = True), YrSold_enc), axis = 1 )\n"
   ]
  },
  {
   "cell_type": "code",
   "execution_count": 62,
   "metadata": {},
   "outputs": [
    {
     "data": {
      "text/plain": [
       "(1460, 39)"
      ]
     },
     "execution_count": 62,
     "metadata": {},
     "output_type": "execute_result"
    }
   ],
   "source": [
    "model2_df.shape"
   ]
  },
  {
   "cell_type": "code",
   "execution_count": 63,
   "metadata": {},
   "outputs": [],
   "source": [
    "X=model2_df"
   ]
  },
  {
   "cell_type": "code",
   "execution_count": 66,
   "metadata": {},
   "outputs": [],
   "source": [
    "y=df.log_sales"
   ]
  },
  {
   "cell_type": "code",
   "execution_count": 67,
   "metadata": {},
   "outputs": [],
   "source": [
    "#try to keep interpretable\n",
    "from sklearn.model_selection import train_test_split\n",
    "Xtrain, Xtest,ytrain, ytest = train_test_split(X,y,test_size = 0.2)"
   ]
  },
  {
   "cell_type": "code",
   "execution_count": 68,
   "metadata": {},
   "outputs": [],
   "source": [
    "from sklearn.preprocessing import StandardScaler\n",
    "ss = StandardScaler()\n",
    "\n",
    "#below learning from training set which is why we use fit\n",
    "Xtrain = pd.DataFrame(ss.fit_transform(Xtrain),columns = Xtrain.columns)"
   ]
  },
  {
   "cell_type": "code",
   "execution_count": 69,
   "metadata": {},
   "outputs": [],
   "source": [
    "from sklearn.linear_model import Lasso\n",
    "from sklearn.model_selection import GridSearchCV"
   ]
  },
  {
   "cell_type": "code",
   "execution_count": 76,
   "metadata": {},
   "outputs": [
    {
     "data": {
      "text/plain": [
       "GridSearchCV(cv=None, error_score=nan,\n",
       "             estimator=Lasso(alpha=1.0, copy_X=True, fit_intercept=True,\n",
       "                             max_iter=1000, normalize=False, positive=False,\n",
       "                             precompute=False, random_state=None,\n",
       "                             selection='cyclic', tol=0.0001, warm_start=False),\n",
       "             iid='deprecated', n_jobs=None,\n",
       "             param_grid={'alpha': (1e-07, 0.0001, 0.001, 0.01, 0.1, 0.5, 1, 2,\n",
       "                                   10, 100, 10000),\n",
       "                         'fit_intercept': [True, False]},\n",
       "             pre_dispatch='2*n_jobs', refit=True, return_train_score=False,\n",
       "             scoring=None, verbose=0)"
      ]
     },
     "execution_count": 76,
     "metadata": {},
     "output_type": "execute_result"
    }
   ],
   "source": [
    "lasso = Lasso()\n",
    "params = {'alpha':(0.0000001,0.0001,0.001,0.01,0.1,0.5,1,2,10,100,10000),'fit_intercept':[True,False]}\n",
    "grid_search_lasso = GridSearchCV( estimator = lasso, param_grid = params)\n",
    "grid_search_lasso.fit(Xtrain,ytrain)"
   ]
  },
  {
   "cell_type": "code",
   "execution_count": 77,
   "metadata": {},
   "outputs": [
    {
     "data": {
      "text/plain": [
       "{'alpha': 0.0001, 'fit_intercept': True}"
      ]
     },
     "execution_count": 77,
     "metadata": {},
     "output_type": "execute_result"
    }
   ],
   "source": [
    "grid_search_lasso.best_params_"
   ]
  },
  {
   "cell_type": "code",
   "execution_count": 78,
   "metadata": {},
   "outputs": [
    {
     "data": {
      "text/plain": [
       "0.8666675973910936"
      ]
     },
     "execution_count": 78,
     "metadata": {},
     "output_type": "execute_result"
    }
   ],
   "source": [
    "grid_search_lasso.best_score_"
   ]
  },
  {
   "cell_type": "code",
   "execution_count": 79,
   "metadata": {},
   "outputs": [
    {
     "data": {
      "text/plain": [
       "array([ 0.157616  ,  0.02247124,  0.13060942, -0.04954206,  0.02189818,\n",
       "       -0.00559984, -0.02517897, -0.03071611, -0.00674644, -0.02610023,\n",
       "        0.00504045, -0.05406345, -0.01111557, -0.05547745, -0.0271745 ,\n",
       "       -0.02696206, -0.04786395, -0.00486544, -0.01874687, -0.00331501,\n",
       "        0.00741702, -0.06518141, -0.01899085, -0.03789918, -0.02701518,\n",
       "       -0.00481791,  0.00389278, -0.01422626, -0.00098863, -0.00728161,\n",
       "       -0.00657065, -0.03334595, -0.01555128, -0.01011009, -0.02708725,\n",
       "        0.00385237,  0.00229419, -0.00479505,  0.00268682])"
      ]
     },
     "execution_count": 79,
     "metadata": {},
     "output_type": "execute_result"
    }
   ],
   "source": [
    "lasso = Lasso(alpha=.0001)\n",
    "lasso.fit(Xtrain, ytrain).coef_"
   ]
  },
  {
   "cell_type": "code",
   "execution_count": 80,
   "metadata": {},
   "outputs": [
    {
     "data": {
      "text/plain": [
       "[(0.15761600379616791, 'Total_size'),\n",
       " (0.022471240883708207, 'LotArea'),\n",
       " (0.13060942341266374, 'OverallQual'),\n",
       " (-0.04954206394037876, 'Age_at_sale'),\n",
       " (0.02189818376720106, 'Outdoor_Porch_Size'),\n",
       " (-0.005599838909560209, 'Neighborhood_Blueste'),\n",
       " (-0.025178968830040123, 'Neighborhood_BrDale'),\n",
       " (-0.03071610875815192, 'Neighborhood_BrkSide'),\n",
       " (-0.006746441756859876, 'Neighborhood_ClearCr'),\n",
       " (-0.026100229358603, 'Neighborhood_CollgCr'),\n",
       " (0.0050404524697656005, 'Neighborhood_Crawfor'),\n",
       " (-0.054063453125305826, 'Neighborhood_Edwards'),\n",
       " (-0.011115571661968372, 'Neighborhood_Gilbert'),\n",
       " (-0.05547745213814123, 'Neighborhood_IDOTRR'),\n",
       " (-0.027174495799701485, 'Neighborhood_MeadowV'),\n",
       " (-0.026962058186501374, 'Neighborhood_Mitchel'),\n",
       " (-0.0478639460337705, 'Neighborhood_NAmes'),\n",
       " (-0.004865438035460248, 'Neighborhood_NPkVill'),\n",
       " (-0.01874686701958918, 'Neighborhood_NWAmes'),\n",
       " (-0.0033150148344491736, 'Neighborhood_NoRidge'),\n",
       " (0.007417018415000081, 'Neighborhood_NridgHt'),\n",
       " (-0.06518141147123023, 'Neighborhood_OldTown'),\n",
       " (-0.018990853835818576, 'Neighborhood_SWISU'),\n",
       " (-0.0378991805774653, 'Neighborhood_Sawyer'),\n",
       " (-0.027015183711476, 'Neighborhood_SawyerW'),\n",
       " (-0.004817914623587538, 'Neighborhood_Somerst'),\n",
       " (0.0038927805810656277, 'Neighborhood_StoneBr'),\n",
       " (-0.014226262881677129, 'Neighborhood_Timber'),\n",
       " (-0.0009886260845746548, 'Neighborhood_Veenker'),\n",
       " (-0.007281608287515477, 'BldgType_clean_2fmCon'),\n",
       " (-0.006570654553562426, 'BldgType_clean_Duplex'),\n",
       " (-0.03334595271930151, 'BldgType_clean_Twnhs'),\n",
       " (-0.015551278381519424, 'ExterQual_Fa'),\n",
       " (-0.010110092040828633, 'ExterQual_Gd'),\n",
       " (-0.027087248740964243, 'ExterQual_TA'),\n",
       " (0.0038523658815630014, 'YrSold_2007'),\n",
       " (0.0022941937258297847, 'YrSold_2008'),\n",
       " (-0.004795045547930756, 'YrSold_2009'),\n",
       " (0.002686822489174109, 'YrSold_2010')]"
      ]
     },
     "execution_count": 80,
     "metadata": {},
     "output_type": "execute_result"
    }
   ],
   "source": [
    "lasso.fit(Xtrain, ytrain).coef_\n",
    "lst = []\n",
    "for i in (list(zip(lasso.fit(Xtrain, ytrain).coef_, Xtrain.columns))):\n",
    "    lst.append(i)\n",
    "lst"
   ]
  },
  {
   "cell_type": "code",
   "execution_count": 81,
   "metadata": {},
   "outputs": [
    {
     "ename": "NameError",
     "evalue": "name 'lm' is not defined",
     "output_type": "error",
     "traceback": [
      "\u001b[0;31m---------------------------------------------------------------------------\u001b[0m",
      "\u001b[0;31mNameError\u001b[0m                                 Traceback (most recent call last)",
      "\u001b[0;32m<ipython-input-81-d4de2f042ad9>\u001b[0m in \u001b[0;36m<module>\u001b[0;34m\u001b[0m\n\u001b[0;32m----> 1\u001b[0;31m \u001b[0mprint\u001b[0m\u001b[0;34m(\u001b[0m\u001b[0;34m'R^2 is equal to %.3f'\u001b[0m \u001b[0;34m%\u001b[0m\u001b[0;34m(\u001b[0m\u001b[0mlm\u001b[0m\u001b[0;34m.\u001b[0m\u001b[0mscore\u001b[0m\u001b[0;34m(\u001b[0m\u001b[0mX\u001b[0m\u001b[0;34m,\u001b[0m \u001b[0mY\u001b[0m\u001b[0;34m)\u001b[0m\u001b[0;34m)\u001b[0m\u001b[0;34m)\u001b[0m\u001b[0;34m\u001b[0m\u001b[0;34m\u001b[0m\u001b[0m\n\u001b[0m\u001b[1;32m      2\u001b[0m \u001b[0mprint\u001b[0m\u001b[0;34m(\u001b[0m\u001b[0;34m'RSS is equal to %.3f'\u001b[0m \u001b[0;34m%\u001b[0m\u001b[0;34m(\u001b[0m\u001b[0mnp\u001b[0m\u001b[0;34m.\u001b[0m\u001b[0msum\u001b[0m\u001b[0;34m(\u001b[0m\u001b[0;34m(\u001b[0m\u001b[0mY\u001b[0m\u001b[0;34m-\u001b[0m\u001b[0mlm\u001b[0m\u001b[0;34m.\u001b[0m\u001b[0mpredict\u001b[0m\u001b[0;34m(\u001b[0m\u001b[0mX\u001b[0m\u001b[0;34m)\u001b[0m\u001b[0;34m)\u001b[0m\u001b[0;34m**\u001b[0m\u001b[0;36m2\u001b[0m\u001b[0;34m)\u001b[0m\u001b[0;34m)\u001b[0m\u001b[0;34m)\u001b[0m\u001b[0;34m\u001b[0m\u001b[0;34m\u001b[0m\u001b[0m\n\u001b[1;32m      3\u001b[0m \u001b[0mprint\u001b[0m\u001b[0;34m(\u001b[0m\u001b[0;34m'The intercept is %.3f'\u001b[0m \u001b[0;34m%\u001b[0m\u001b[0;34m(\u001b[0m\u001b[0mlm\u001b[0m\u001b[0;34m.\u001b[0m\u001b[0mintercept_\u001b[0m\u001b[0;34m)\u001b[0m\u001b[0;34m)\u001b[0m\u001b[0;34m\u001b[0m\u001b[0;34m\u001b[0m\u001b[0m\n\u001b[1;32m      4\u001b[0m \u001b[0mprint\u001b[0m\u001b[0;34m(\u001b[0m\u001b[0;34m'The slopes are %s'\u001b[0m \u001b[0;34m%\u001b[0m\u001b[0;34m(\u001b[0m\u001b[0mlm\u001b[0m\u001b[0;34m.\u001b[0m\u001b[0mcoef_\u001b[0m\u001b[0;34m)\u001b[0m\u001b[0;34m)\u001b[0m\u001b[0;34m\u001b[0m\u001b[0;34m\u001b[0m\u001b[0m\n",
      "\u001b[0;31mNameError\u001b[0m: name 'lm' is not defined"
     ]
    }
   ],
   "source": [
    "print('R^2 is equal to %.3f' %(lm.score(X, Y)))\n",
    "print('RSS is equal to %.3f' %(np.sum((Y-lm.predict(X))**2)))\n",
    "print('The intercept is %.3f' %(lm.intercept_))\n",
    "print('The slopes are %s' %(lm.coef_))"
   ]
  },
  {
   "cell_type": "code",
   "execution_count": null,
   "metadata": {},
   "outputs": [],
   "source": []
  }
 ],
 "metadata": {
  "kernelspec": {
   "display_name": "Python 3",
   "language": "python",
   "name": "python3"
  },
  "language_info": {
   "codemirror_mode": {
    "name": "ipython",
    "version": 3
   },
   "file_extension": ".py",
   "mimetype": "text/x-python",
   "name": "python",
   "nbconvert_exporter": "python",
   "pygments_lexer": "ipython3",
   "version": "3.8.1"
  }
 },
 "nbformat": 4,
 "nbformat_minor": 4
}
