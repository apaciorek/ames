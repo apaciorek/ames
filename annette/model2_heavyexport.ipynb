{
 "cells": [
  {
   "cell_type": "code",
   "execution_count": 1,
   "metadata": {},
   "outputs": [],
   "source": [
    "\n",
    "#### Loading the packages to be used\n",
    "from __future__ import print_function  # Python 2 and 3\n",
    "import numpy as np\n",
    "import pandas as pd\n",
    "from scipy import stats\n",
    "import matplotlib.pyplot as plt\n",
    "from scipy import stats\n",
    "import os\n",
    "%matplotlib inline\n",
    "plt.style.use('ggplot')\n",
    "np.random.seed(0)"
   ]
  },
  {
   "cell_type": "code",
   "execution_count": 2,
   "metadata": {},
   "outputs": [],
   "source": [
    "data = pd.read_csv(\"house-prices-advanced-regression-techniques/test.csv\")"
   ]
  },
  {
   "cell_type": "code",
   "execution_count": 3,
   "metadata": {},
   "outputs": [],
   "source": [
    "df=data.copy()\n"
   ]
  },
  {
   "cell_type": "code",
   "execution_count": 4,
   "metadata": {},
   "outputs": [],
   "source": [
    "df['Total_size']= df['BsmtFinSF1']+ df['BsmtFinSF2'] + df['1stFlrSF'] +df['2ndFlrSF']+df['GarageArea']"
   ]
  },
  {
   "cell_type": "code",
   "execution_count": 5,
   "metadata": {},
   "outputs": [],
   "source": [
    "#create a helper for bldgtype\n",
    "def helper(x):\n",
    "    if x.BldgType == \"TwnhsE\":\n",
    "        return 'Twnhs'\n",
    "    else:\n",
    "        return x.BldgType"
   ]
  },
  {
   "cell_type": "code",
   "execution_count": 6,
   "metadata": {},
   "outputs": [],
   "source": [
    "def helper(x):\n",
    "    if x.BldgType == \"TwnhsE\":\n",
    "        return 'Twnhs'\n",
    "    else:\n",
    "        return x.BldgType\n",
    "\n",
    "df['BldgType_clean']=df.apply(helper,axis=1)"
   ]
  },
  {
   "cell_type": "code",
   "execution_count": 7,
   "metadata": {},
   "outputs": [],
   "source": [
    "df['Outdoor_Porch_Size']= df['WoodDeckSF']+df['OpenPorchSF']\n"
   ]
  },
  {
   "cell_type": "code",
   "execution_count": 8,
   "metadata": {},
   "outputs": [],
   "source": [
    "\n",
    "# #helper_1\n",
    "# def recent_constr(x):\n",
    "#     if(x.YearBuilt < x.YearRemodAdd):\n",
    "#         return x.YearRemodAdd\n",
    "#     else: \n",
    "#         return x.YearBuilt\n",
    "\n",
    "# #defining intermediate column    \n",
    "# df['time_remod'] = data.apply(recent_constr,axis=1)\n",
    "\n",
    "#helper 2\n",
    "def recent_constr(x):\n",
    "    if(x.YearBuilt < x.YearRemodAdd):\n",
    "        return x.YearRemodAdd\n",
    "    else: \n",
    "        return x.YearBuilt\n",
    "\n",
    "#defining intermediate column 2    \n",
    "df['Recent_yr'] = df.apply(recent_constr,axis=1)\n",
    "\n",
    "#time to sale helper defined:\n",
    "def time_to_sale(x):\n",
    "    return x.YrSold - x.Recent_yr\n",
    "\n",
    "#new column defined to be used in Train\n",
    "df['Age_at_sale']=df.apply(time_to_sale,axis=1)"
   ]
  },
  {
   "cell_type": "code",
   "execution_count": 9,
   "metadata": {},
   "outputs": [],
   "source": [
    "testlight_df = df[['Total_size','LotArea','Neighborhood','OverallQual','Age_at_sale',\n",
    "                'YrSold']]"
   ]
  },
  {
   "cell_type": "code",
   "execution_count": 10,
   "metadata": {},
   "outputs": [
    {
     "data": {
      "text/plain": [
       "Index(['Total_size', 'LotArea', 'Neighborhood', 'OverallQual', 'Age_at_sale',\n",
       "       'YrSold'],\n",
       "      dtype='object')"
      ]
     },
     "execution_count": 10,
     "metadata": {},
     "output_type": "execute_result"
    }
   ],
   "source": [
    "testlight_df.columns"
   ]
  },
  {
   "cell_type": "code",
   "execution_count": 11,
   "metadata": {},
   "outputs": [],
   "source": [
    "testlight_df.to_csv(\"testlight_df.csv\", index=False)"
   ]
  },
  {
   "cell_type": "code",
   "execution_count": 13,
   "metadata": {},
   "outputs": [
    {
     "name": "stdout",
     "output_type": "stream",
     "text": [
      "The columns with missingness are Index(['Total_size'], dtype='object')\n",
      "The rows with missingness are Int64Index([660, 1116], dtype='int64')\n"
     ]
    }
   ],
   "source": [
    "# Generate the boolean flags indicating missing rows and columns\n",
    "missingRows = pd.isnull(testlight_df).sum(axis=1) > 0\n",
    "missingCols = pd.isnull(testlight_df).sum(axis=0) > 0\n",
    "print('The columns with missingness are %s' %(testlight_df.columns[missingCols]))\n",
    "print(\"The rows with missingness are %s\" %(testlight_df.index[missingRows]))\n",
    "#df2 = df2[~missingRows]"
   ]
  },
  {
   "cell_type": "code",
   "execution_count": 15,
   "metadata": {},
   "outputs": [
    {
     "data": {
      "text/plain": [
       "Id                      0\n",
       "MSSubClass              0\n",
       "MSZoning                4\n",
       "LotFrontage           227\n",
       "LotArea                 0\n",
       "                     ... \n",
       "Total_size              2\n",
       "BldgType_clean          0\n",
       "Outdoor_Porch_Size      0\n",
       "Recent_yr               0\n",
       "Age_at_sale             0\n",
       "Length: 85, dtype: int64"
      ]
     },
     "execution_count": 15,
     "metadata": {},
     "output_type": "execute_result"
    }
   ],
   "source": [
    "df.isna().sum()"
   ]
  },
  {
   "cell_type": "code",
   "execution_count": null,
   "metadata": {},
   "outputs": [],
   "source": []
  }
 ],
 "metadata": {
  "kernelspec": {
   "display_name": "Python 3",
   "language": "python",
   "name": "python3"
  },
  "language_info": {
   "codemirror_mode": {
    "name": "ipython",
    "version": 3
   },
   "file_extension": ".py",
   "mimetype": "text/x-python",
   "name": "python",
   "nbconvert_exporter": "python",
   "pygments_lexer": "ipython3",
   "version": "3.7.4"
  }
 },
 "nbformat": 4,
 "nbformat_minor": 2
}
