{
 "cells": [
  {
   "cell_type": "code",
   "execution_count": 1,
   "metadata": {},
   "outputs": [],
   "source": [
    "\n",
    "#### Loading the packages to be used\n",
    "from __future__ import print_function  # Python 2 and 3\n",
    "import numpy as np\n",
    "import pandas as pd\n",
    "from scipy import stats\n",
    "import matplotlib.pyplot as plt\n",
    "from scipy import stats\n",
    "import os\n",
    "%matplotlib inline\n",
    "plt.style.use('ggplot')\n",
    "np.random.seed(0)"
   ]
  },
  {
   "cell_type": "code",
   "execution_count": 2,
   "metadata": {},
   "outputs": [],
   "source": [
    "\n",
    "from sklearn import linear_model\n",
    "ols = linear_model.LinearRegression()"
   ]
  },
  {
   "cell_type": "code",
   "execution_count": 3,
   "metadata": {},
   "outputs": [],
   "source": [
    "data = pd.read_csv(\"house-prices-advanced-regression-techniques/train.csv\")"
   ]
  },
  {
   "cell_type": "code",
   "execution_count": 24,
   "metadata": {},
   "outputs": [
    {
     "data": {
      "text/plain": [
       "Index(['Id', 'MSSubClass', 'MSZoning', 'LotFrontage', 'LotArea', 'Street',\n",
       "       'Alley', 'LotShape', 'LandContour', 'Utilities', 'LotConfig',\n",
       "       'LandSlope', 'Neighborhood', 'Condition1', 'Condition2', 'BldgType',\n",
       "       'HouseStyle', 'OverallQual', 'OverallCond', 'YearBuilt', 'YearRemodAdd',\n",
       "       'RoofStyle', 'RoofMatl', 'Exterior1st', 'Exterior2nd', 'MasVnrType',\n",
       "       'MasVnrArea', 'ExterQual', 'ExterCond', 'Foundation', 'BsmtQual',\n",
       "       'BsmtCond', 'BsmtExposure', 'BsmtFinType1', 'BsmtFinSF1',\n",
       "       'BsmtFinType2', 'BsmtFinSF2', 'BsmtUnfSF', 'TotalBsmtSF', 'Heating',\n",
       "       'HeatingQC', 'CentralAir', 'Electrical', '1stFlrSF', '2ndFlrSF',\n",
       "       'LowQualFinSF', 'GrLivArea', 'BsmtFullBath', 'BsmtHalfBath', 'FullBath',\n",
       "       'HalfBath', 'BedroomAbvGr', 'KitchenAbvGr', 'KitchenQual',\n",
       "       'TotRmsAbvGrd', 'Functional', 'Fireplaces', 'FireplaceQu', 'GarageType',\n",
       "       'GarageYrBlt', 'GarageFinish', 'GarageCars', 'GarageArea', 'GarageQual',\n",
       "       'GarageCond', 'PavedDrive', 'WoodDeckSF', 'OpenPorchSF',\n",
       "       'EnclosedPorch', '3SsnPorch', 'ScreenPorch', 'PoolArea', 'PoolQC',\n",
       "       'Fence', 'MiscFeature', 'MiscVal', 'MoSold', 'YrSold', 'SaleType',\n",
       "       'SaleCondition', 'SalePrice'],\n",
       "      dtype='object')"
      ]
     },
     "execution_count": 24,
     "metadata": {},
     "output_type": "execute_result"
    }
   ],
   "source": [
    "data.columns"
   ]
  },
  {
   "cell_type": "code",
   "execution_count": 5,
   "metadata": {},
   "outputs": [],
   "source": [
    "df=data.copy()\n"
   ]
  },
  {
   "cell_type": "code",
   "execution_count": 6,
   "metadata": {},
   "outputs": [],
   "source": [
    "\n",
    "df['Total_size']= df['BsmtFinSF1']+ df['BsmtFinSF2'] + df['1stFlrSF'] +df['2ndFlrSF']+df['GarageArea']"
   ]
  },
  {
   "cell_type": "code",
   "execution_count": 7,
   "metadata": {},
   "outputs": [],
   "source": [
    "#create a helper for bldgtype\n",
    "def helper(x):\n",
    "    if x.BldgType == \"TwnhsE\":\n",
    "        return 'Twnhs'\n",
    "    else:\n",
    "        return x.BldgType"
   ]
  },
  {
   "cell_type": "code",
   "execution_count": 8,
   "metadata": {},
   "outputs": [],
   "source": [
    "def helper(x):\n",
    "    if x.BldgType == \"TwnhsE\":\n",
    "        return 'Twnhs'\n",
    "    else:\n",
    "        return x.BldgType\n",
    "\n",
    "df['BldgType_clean']=df.apply(helper,axis=1)"
   ]
  },
  {
   "cell_type": "code",
   "execution_count": 9,
   "metadata": {},
   "outputs": [
    {
     "data": {
      "text/html": [
       "<div>\n",
       "<style scoped>\n",
       "    .dataframe tbody tr th:only-of-type {\n",
       "        vertical-align: middle;\n",
       "    }\n",
       "\n",
       "    .dataframe tbody tr th {\n",
       "        vertical-align: top;\n",
       "    }\n",
       "\n",
       "    .dataframe thead th {\n",
       "        text-align: right;\n",
       "    }\n",
       "</style>\n",
       "<table border=\"1\" class=\"dataframe\">\n",
       "  <thead>\n",
       "    <tr style=\"text-align: right;\">\n",
       "      <th></th>\n",
       "      <th>LotArea</th>\n",
       "      <th>Total_size</th>\n",
       "      <th>WoodDeckSF</th>\n",
       "      <th>OpenPorchSF</th>\n",
       "      <th>PoolArea</th>\n",
       "    </tr>\n",
       "  </thead>\n",
       "  <tbody>\n",
       "    <tr>\n",
       "      <td>0</td>\n",
       "      <td>8450</td>\n",
       "      <td>2964</td>\n",
       "      <td>0</td>\n",
       "      <td>61</td>\n",
       "      <td>0</td>\n",
       "    </tr>\n",
       "    <tr>\n",
       "      <td>1</td>\n",
       "      <td>9600</td>\n",
       "      <td>2700</td>\n",
       "      <td>298</td>\n",
       "      <td>0</td>\n",
       "      <td>0</td>\n",
       "    </tr>\n",
       "    <tr>\n",
       "      <td>2</td>\n",
       "      <td>11250</td>\n",
       "      <td>2880</td>\n",
       "      <td>0</td>\n",
       "      <td>42</td>\n",
       "      <td>0</td>\n",
       "    </tr>\n",
       "    <tr>\n",
       "      <td>3</td>\n",
       "      <td>9550</td>\n",
       "      <td>2575</td>\n",
       "      <td>0</td>\n",
       "      <td>35</td>\n",
       "      <td>0</td>\n",
       "    </tr>\n",
       "    <tr>\n",
       "      <td>4</td>\n",
       "      <td>14260</td>\n",
       "      <td>3689</td>\n",
       "      <td>192</td>\n",
       "      <td>84</td>\n",
       "      <td>0</td>\n",
       "    </tr>\n",
       "    <tr>\n",
       "      <td>...</td>\n",
       "      <td>...</td>\n",
       "      <td>...</td>\n",
       "      <td>...</td>\n",
       "      <td>...</td>\n",
       "      <td>...</td>\n",
       "    </tr>\n",
       "    <tr>\n",
       "      <td>1455</td>\n",
       "      <td>7917</td>\n",
       "      <td>2107</td>\n",
       "      <td>0</td>\n",
       "      <td>40</td>\n",
       "      <td>0</td>\n",
       "    </tr>\n",
       "    <tr>\n",
       "      <td>1456</td>\n",
       "      <td>13175</td>\n",
       "      <td>3526</td>\n",
       "      <td>349</td>\n",
       "      <td>0</td>\n",
       "      <td>0</td>\n",
       "    </tr>\n",
       "    <tr>\n",
       "      <td>1457</td>\n",
       "      <td>9042</td>\n",
       "      <td>2867</td>\n",
       "      <td>0</td>\n",
       "      <td>60</td>\n",
       "      <td>0</td>\n",
       "    </tr>\n",
       "    <tr>\n",
       "      <td>1458</td>\n",
       "      <td>9717</td>\n",
       "      <td>2396</td>\n",
       "      <td>366</td>\n",
       "      <td>0</td>\n",
       "      <td>0</td>\n",
       "    </tr>\n",
       "    <tr>\n",
       "      <td>1459</td>\n",
       "      <td>9937</td>\n",
       "      <td>2652</td>\n",
       "      <td>736</td>\n",
       "      <td>68</td>\n",
       "      <td>0</td>\n",
       "    </tr>\n",
       "  </tbody>\n",
       "</table>\n",
       "<p>1460 rows × 5 columns</p>\n",
       "</div>"
      ],
      "text/plain": [
       "      LotArea  Total_size  WoodDeckSF  OpenPorchSF  PoolArea\n",
       "0        8450        2964           0           61         0\n",
       "1        9600        2700         298            0         0\n",
       "2       11250        2880           0           42         0\n",
       "3        9550        2575           0           35         0\n",
       "4       14260        3689         192           84         0\n",
       "...       ...         ...         ...          ...       ...\n",
       "1455     7917        2107           0           40         0\n",
       "1456    13175        3526         349            0         0\n",
       "1457     9042        2867           0           60         0\n",
       "1458     9717        2396         366            0         0\n",
       "1459     9937        2652         736           68         0\n",
       "\n",
       "[1460 rows x 5 columns]"
      ]
     },
     "execution_count": 9,
     "metadata": {},
     "output_type": "execute_result"
    }
   ],
   "source": [
    "df[['LotArea','Total_size','WoodDeckSF','OpenPorchSF','PoolArea']]\n"
   ]
  },
  {
   "cell_type": "code",
   "execution_count": 10,
   "metadata": {},
   "outputs": [],
   "source": [
    "df['Outdoor_Porch_Size']= df['WoodDeckSF']+df['OpenPorchSF']\n"
   ]
  },
  {
   "cell_type": "code",
   "execution_count": 11,
   "metadata": {},
   "outputs": [],
   "source": [
    "\n",
    "# #helper_1\n",
    "# def recent_constr(x):\n",
    "#     if(x.YearBuilt < x.YearRemodAdd):\n",
    "#         return x.YearRemodAdd\n",
    "#     else: \n",
    "#         return x.YearBuilt\n",
    "\n",
    "# #defining intermediate column    \n",
    "# df['time_remod'] = data.apply(recent_constr,axis=1)\n",
    "\n",
    "#helper 2\n",
    "def recent_constr(x):\n",
    "    if(x.YearBuilt < x.YearRemodAdd):\n",
    "        return x.YearRemodAdd\n",
    "    else: \n",
    "        return x.YearBuilt\n",
    "\n",
    "#defining intermediate column 2    \n",
    "df['Recent_yr'] = df.apply(recent_constr,axis=1)\n",
    "\n",
    "#time to sale helper defined:\n",
    "def time_to_sale(x):\n",
    "    return x.YrSold - x.Recent_yr\n",
    "\n",
    "#new column defined to be used in Train\n",
    "df['Age_at_sale']=df.apply(time_to_sale,axis=1)"
   ]
  },
  {
   "cell_type": "code",
   "execution_count": 12,
   "metadata": {},
   "outputs": [],
   "source": [
    "df['log_sales']=np.log(df['SalePrice'])\n"
   ]
  },
  {
   "cell_type": "code",
   "execution_count": 37,
   "metadata": {},
   "outputs": [],
   "source": [
    "\n",
    "model2_df = df[['Total_size','LotArea','Neighborhood','BldgType_clean','OverallQual','Age_at_sale','ExterQual',\n",
    "                'Outdoor_Porch_Size','YrSold','KitchenQual','Fireplaces', 'log_sales', 'SalePrice']]"
   ]
  },
  {
   "cell_type": "code",
   "execution_count": 29,
   "metadata": {},
   "outputs": [],
   "source": [
    "model2light_df = df[['Total_size','LotArea','Neighborhood','OverallQual','Age_at_sale',\n",
    "                'YrSold', 'log_sales']]"
   ]
  },
  {
   "cell_type": "code",
   "execution_count": 30,
   "metadata": {},
   "outputs": [
    {
     "data": {
      "text/plain": [
       "Index(['Total_size', 'LotArea', 'Neighborhood', 'OverallQual', 'Age_at_sale',\n",
       "       'YrSold', 'log_sales'],\n",
       "      dtype='object')"
      ]
     },
     "execution_count": 30,
     "metadata": {},
     "output_type": "execute_result"
    }
   ],
   "source": [
    "model2light_df.columns\n"
   ]
  },
  {
   "cell_type": "code",
   "execution_count": 27,
   "metadata": {},
   "outputs": [
    {
     "data": {
      "text/html": [
       "<div>\n",
       "<style scoped>\n",
       "    .dataframe tbody tr th:only-of-type {\n",
       "        vertical-align: middle;\n",
       "    }\n",
       "\n",
       "    .dataframe tbody tr th {\n",
       "        vertical-align: top;\n",
       "    }\n",
       "\n",
       "    .dataframe thead th {\n",
       "        text-align: right;\n",
       "    }\n",
       "</style>\n",
       "<table border=\"1\" class=\"dataframe\">\n",
       "  <thead>\n",
       "    <tr style=\"text-align: right;\">\n",
       "      <th></th>\n",
       "      <th>Total_size</th>\n",
       "      <th>LotArea</th>\n",
       "      <th>Neighborhood</th>\n",
       "      <th>BldgType_clean</th>\n",
       "      <th>OverallQual</th>\n",
       "      <th>Age_at_sale</th>\n",
       "      <th>ExterQual</th>\n",
       "      <th>Outdoor_Porch_Size</th>\n",
       "      <th>YrSold</th>\n",
       "      <th>KitchenQual</th>\n",
       "      <th>Fireplaces</th>\n",
       "      <th>log_sales</th>\n",
       "    </tr>\n",
       "  </thead>\n",
       "  <tbody>\n",
       "    <tr>\n",
       "      <td>0</td>\n",
       "      <td>2964</td>\n",
       "      <td>8450</td>\n",
       "      <td>CollgCr</td>\n",
       "      <td>1Fam</td>\n",
       "      <td>7</td>\n",
       "      <td>5</td>\n",
       "      <td>Gd</td>\n",
       "      <td>61</td>\n",
       "      <td>2008</td>\n",
       "      <td>Gd</td>\n",
       "      <td>0</td>\n",
       "      <td>12.247694</td>\n",
       "    </tr>\n",
       "    <tr>\n",
       "      <td>1</td>\n",
       "      <td>2700</td>\n",
       "      <td>9600</td>\n",
       "      <td>Veenker</td>\n",
       "      <td>1Fam</td>\n",
       "      <td>6</td>\n",
       "      <td>31</td>\n",
       "      <td>TA</td>\n",
       "      <td>298</td>\n",
       "      <td>2007</td>\n",
       "      <td>TA</td>\n",
       "      <td>1</td>\n",
       "      <td>12.109011</td>\n",
       "    </tr>\n",
       "    <tr>\n",
       "      <td>2</td>\n",
       "      <td>2880</td>\n",
       "      <td>11250</td>\n",
       "      <td>CollgCr</td>\n",
       "      <td>1Fam</td>\n",
       "      <td>7</td>\n",
       "      <td>6</td>\n",
       "      <td>Gd</td>\n",
       "      <td>42</td>\n",
       "      <td>2008</td>\n",
       "      <td>Gd</td>\n",
       "      <td>1</td>\n",
       "      <td>12.317167</td>\n",
       "    </tr>\n",
       "    <tr>\n",
       "      <td>3</td>\n",
       "      <td>2575</td>\n",
       "      <td>9550</td>\n",
       "      <td>Crawfor</td>\n",
       "      <td>1Fam</td>\n",
       "      <td>7</td>\n",
       "      <td>36</td>\n",
       "      <td>TA</td>\n",
       "      <td>35</td>\n",
       "      <td>2006</td>\n",
       "      <td>Gd</td>\n",
       "      <td>1</td>\n",
       "      <td>11.849398</td>\n",
       "    </tr>\n",
       "    <tr>\n",
       "      <td>4</td>\n",
       "      <td>3689</td>\n",
       "      <td>14260</td>\n",
       "      <td>NoRidge</td>\n",
       "      <td>1Fam</td>\n",
       "      <td>8</td>\n",
       "      <td>8</td>\n",
       "      <td>Gd</td>\n",
       "      <td>276</td>\n",
       "      <td>2008</td>\n",
       "      <td>Gd</td>\n",
       "      <td>1</td>\n",
       "      <td>12.429216</td>\n",
       "    </tr>\n",
       "  </tbody>\n",
       "</table>\n",
       "</div>"
      ],
      "text/plain": [
       "   Total_size  LotArea Neighborhood BldgType_clean  OverallQual  Age_at_sale  \\\n",
       "0        2964     8450      CollgCr           1Fam            7            5   \n",
       "1        2700     9600      Veenker           1Fam            6           31   \n",
       "2        2880    11250      CollgCr           1Fam            7            6   \n",
       "3        2575     9550      Crawfor           1Fam            7           36   \n",
       "4        3689    14260      NoRidge           1Fam            8            8   \n",
       "\n",
       "  ExterQual  Outdoor_Porch_Size  YrSold KitchenQual  Fireplaces  log_sales  \n",
       "0        Gd                  61    2008          Gd           0  12.247694  \n",
       "1        TA                 298    2007          TA           1  12.109011  \n",
       "2        Gd                  42    2008          Gd           1  12.317167  \n",
       "3        TA                  35    2006          Gd           1  11.849398  \n",
       "4        Gd                 276    2008          Gd           1  12.429216  "
      ]
     },
     "execution_count": 27,
     "metadata": {},
     "output_type": "execute_result"
    }
   ],
   "source": [
    "model2_df.head()\n"
   ]
  },
  {
   "cell_type": "code",
   "execution_count": 31,
   "metadata": {},
   "outputs": [],
   "source": [
    "model2light_df.to_csv(\"model2light_df.csv\", index=False)"
   ]
  },
  {
   "cell_type": "code",
   "execution_count": 32,
   "metadata": {},
   "outputs": [
    {
     "data": {
      "text/plain": [
       "<matplotlib.axes._subplots.AxesSubplot at 0x1a27aae410>"
      ]
     },
     "execution_count": 32,
     "metadata": {},
     "output_type": "execute_result"
    },
    {
     "data": {
      "image/png": "[encoded data removed]",
      "text/plain": [
       "<Figure size 1440x648 with 2 Axes>"
      ]
     },
     "metadata": {
      "needs_background": "light"
     },
     "output_type": "display_data"
    }
   ],
   "source": [
    "import seaborn as sns\n",
    "# Generate a mask for the upper triangle  # using np.tril will mask the lower triangle\n",
    "mask = np.triu(np.ones_like(model2_df.corr(), dtype=np.bool))\n",
    "# Set up the matplotlib figure\n",
    "f, ax = plt.subplots(figsize=(20, 9))\n",
    "# Generate a custom diverging colormap\n",
    "cmap = sns.diverging_palette(220, 10, as_cmap=True)\n",
    "sns.heatmap(model2_df.corr(), vmax=.8, center=0,\n",
    "            square=True, linewidths=.5, mask=mask, cmap=cmap, annot=True,annot_kws={'size': 10},cbar_kws={\"shrink\": .5})"
   ]
  },
  {
   "cell_type": "code",
   "execution_count": 33,
   "metadata": {},
   "outputs": [],
   "source": [
    "import dtale"
   ]
  },
  {
   "cell_type": "code",
   "execution_count": 38,
   "metadata": {},
   "outputs": [
    {
     "data": {
      "text/html": [
       "\n",
       "        <iframe\n",
       "            width=\"100%\"\n",
       "            height=\"350\"\n",
       "            src=\"http://Annettes-MBP.fios-router.home:40000/dtale/iframe/2\"\n",
       "            frameborder=\"0\"\n",
       "            allowfullscreen\n",
       "        ></iframe>\n",
       "        "
      ],
      "text/plain": [
       "<IPython.lib.display.IFrame at 0x1a24d605d0>"
      ]
     },
     "metadata": {},
     "output_type": "display_data"
    },
    {
     "name": "stdout",
     "output_type": "stream",
     "text": [
      "Exception on /charts/_dash-update-component [POST]\n",
      "Traceback (most recent call last):\n",
      "  File \"/Users/annettepaciorek/opt/anaconda3/lib/python3.7/site-packages/flask/app.py\", line 2446, in wsgi_app\n",
      "    response = self.full_dispatch_request()\n",
      "  File \"/Users/annettepaciorek/opt/anaconda3/lib/python3.7/site-packages/flask/app.py\", line 1951, in full_dispatch_request\n",
      "    rv = self.handle_user_exception(e)\n",
      "  File \"/Users/annettepaciorek/opt/anaconda3/lib/python3.7/site-packages/flask/app.py\", line 1820, in handle_user_exception\n",
      "    reraise(exc_type, exc_value, tb)\n",
      "  File \"/Users/annettepaciorek/opt/anaconda3/lib/python3.7/site-packages/flask/_compat.py\", line 39, in reraise\n",
      "    raise value\n",
      "  File \"/Users/annettepaciorek/opt/anaconda3/lib/python3.7/site-packages/flask/app.py\", line 1949, in full_dispatch_request\n",
      "    rv = self.dispatch_request()\n",
      "  File \"/Users/annettepaciorek/opt/anaconda3/lib/python3.7/site-packages/flask/app.py\", line 1935, in dispatch_request\n",
      "    return self.view_functions[rule.endpoint](**req.view_args)\n",
      "  File \"/Users/annettepaciorek/opt/anaconda3/lib/python3.7/site-packages/dash/dash.py\", line 1459, in dispatch\n",
      "    response.set_data(self.callback_map[output][\"callback\"](*args))\n",
      "  File \"/Users/annettepaciorek/opt/anaconda3/lib/python3.7/site-packages/dash/dash.py\", line 1339, in add_context\n",
      "    output_value = func(*args, **kwargs)  # %% callback invoked %%\n",
      "  File \"/Users/annettepaciorek/opt/anaconda3/lib/python3.7/site-packages/dtale/dash_application/views.py\", line 328, in display_page\n",
      "    df = DATA[get_data_id(pathname)]\n",
      "KeyError: '2'\n",
      "Exception on /charts/_dash-update-component [POST]\n",
      "Traceback (most recent call last):\n",
      "  File \"/Users/annettepaciorek/opt/anaconda3/lib/python3.7/site-packages/flask/app.py\", line 2446, in wsgi_app\n",
      "    response = self.full_dispatch_request()\n",
      "  File \"/Users/annettepaciorek/opt/anaconda3/lib/python3.7/site-packages/flask/app.py\", line 1951, in full_dispatch_request\n",
      "    rv = self.handle_user_exception(e)\n",
      "  File \"/Users/annettepaciorek/opt/anaconda3/lib/python3.7/site-packages/flask/app.py\", line 1820, in handle_user_exception\n",
      "    reraise(exc_type, exc_value, tb)\n",
      "  File \"/Users/annettepaciorek/opt/anaconda3/lib/python3.7/site-packages/flask/_compat.py\", line 39, in reraise\n",
      "    raise value\n",
      "  File \"/Users/annettepaciorek/opt/anaconda3/lib/python3.7/site-packages/flask/app.py\", line 1949, in full_dispatch_request\n",
      "    rv = self.dispatch_request()\n",
      "  File \"/Users/annettepaciorek/opt/anaconda3/lib/python3.7/site-packages/flask/app.py\", line 1935, in dispatch_request\n",
      "    return self.view_functions[rule.endpoint](**req.view_args)\n",
      "  File \"/Users/annettepaciorek/opt/anaconda3/lib/python3.7/site-packages/dash/dash.py\", line 1459, in dispatch\n",
      "    response.set_data(self.callback_map[output][\"callback\"](*args))\n",
      "  File \"/Users/annettepaciorek/opt/anaconda3/lib/python3.7/site-packages/dash/dash.py\", line 1339, in add_context\n",
      "    output_value = func(*args, **kwargs)  # %% callback invoked %%\n",
      "  File \"/Users/annettepaciorek/opt/anaconda3/lib/python3.7/site-packages/dtale/dash_application/views.py\", line 328, in display_page\n",
      "    df = DATA[get_data_id(pathname)]\n",
      "KeyError: '2'\n"
     ]
    },
    {
     "name": "stderr",
     "output_type": "stream",
     "text": [
      "2020-02-29 18:20:55,622 - ERROR    - Exception on /charts/_dash-update-component [POST]\n",
      "Traceback (most recent call last):\n",
      "  File \"/Users/annettepaciorek/opt/anaconda3/lib/python3.7/site-packages/flask/app.py\", line 2446, in wsgi_app\n",
      "    response = self.full_dispatch_request()\n",
      "  File \"/Users/annettepaciorek/opt/anaconda3/lib/python3.7/site-packages/flask/app.py\", line 1951, in full_dispatch_request\n",
      "    rv = self.handle_user_exception(e)\n",
      "  File \"/Users/annettepaciorek/opt/anaconda3/lib/python3.7/site-packages/flask/app.py\", line 1820, in handle_user_exception\n",
      "    reraise(exc_type, exc_value, tb)\n",
      "  File \"/Users/annettepaciorek/opt/anaconda3/lib/python3.7/site-packages/flask/_compat.py\", line 39, in reraise\n",
      "    raise value\n",
      "  File \"/Users/annettepaciorek/opt/anaconda3/lib/python3.7/site-packages/flask/app.py\", line 1949, in full_dispatch_request\n",
      "    rv = self.dispatch_request()\n",
      "  File \"/Users/annettepaciorek/opt/anaconda3/lib/python3.7/site-packages/flask/app.py\", line 1935, in dispatch_request\n",
      "    return self.view_functions[rule.endpoint](**req.view_args)\n",
      "  File \"/Users/annettepaciorek/opt/anaconda3/lib/python3.7/site-packages/dash/dash.py\", line 1459, in dispatch\n",
      "    response.set_data(self.callback_map[output][\"callback\"](*args))\n",
      "  File \"/Users/annettepaciorek/opt/anaconda3/lib/python3.7/site-packages/dash/dash.py\", line 1339, in add_context\n",
      "    output_value = func(*args, **kwargs)  # %% callback invoked %%\n",
      "  File \"/Users/annettepaciorek/opt/anaconda3/lib/python3.7/site-packages/dtale/dash_application/views.py\", line 328, in display_page\n",
      "    df = DATA[get_data_id(pathname)]\n",
      "KeyError: '2'\n"
     ]
    },
    {
     "name": "stdout",
     "output_type": "stream",
     "text": [
      "500 Internal Server Error: The server encountered an internal error and was unable to complete your request. Either the server is overloaded or there is an error in the application.\n",
      "Traceback (most recent call last):\n",
      "  File \"/Users/annettepaciorek/opt/anaconda3/lib/python3.7/site-packages/flask/app.py\", line 2446, in wsgi_app\n",
      "    response = self.full_dispatch_request()\n",
      "  File \"/Users/annettepaciorek/opt/anaconda3/lib/python3.7/site-packages/flask/app.py\", line 1951, in full_dispatch_request\n",
      "    rv = self.handle_user_exception(e)\n",
      "  File \"/Users/annettepaciorek/opt/anaconda3/lib/python3.7/site-packages/flask/app.py\", line 1820, in handle_user_exception\n",
      "    reraise(exc_type, exc_value, tb)\n",
      "  File \"/Users/annettepaciorek/opt/anaconda3/lib/python3.7/site-packages/flask/_compat.py\", line 39, in reraise\n",
      "    raise value\n",
      "  File \"/Users/annettepaciorek/opt/anaconda3/lib/python3.7/site-packages/flask/app.py\", line 1949, in full_dispatch_request\n",
      "    rv = self.dispatch_request()\n",
      "  File \"/Users/annettepaciorek/opt/anaconda3/lib/python3.7/site-packages/flask/app.py\", line 1935, in dispatch_request\n",
      "    return self.view_functions[rule.endpoint](**req.view_args)\n",
      "  File \"/Users/annettepaciorek/opt/anaconda3/lib/python3.7/site-packages/dash/dash.py\", line 1459, in dispatch\n",
      "    response.set_data(self.callback_map[output][\"callback\"](*args))\n",
      "  File \"/Users/annettepaciorek/opt/anaconda3/lib/python3.7/site-packages/dash/dash.py\", line 1339, in add_context\n",
      "    output_value = func(*args, **kwargs)  # %% callback invoked %%\n",
      "  File \"/Users/annettepaciorek/opt/anaconda3/lib/python3.7/site-packages/dtale/dash_application/views.py\", line 328, in display_page\n",
      "    df = DATA[get_data_id(pathname)]\n",
      "KeyError: '2'\n",
      "500 Internal Server Error: The server encountered an internal error and was unable to complete your request. Either the server is overloaded or there is an error in the application.\n",
      "Traceback (most recent call last):\n",
      "  File \"/Users/annettepaciorek/opt/anaconda3/lib/python3.7/site-packages/flask/app.py\", line 2446, in wsgi_app\n",
      "    response = self.full_dispatch_request()\n",
      "  File \"/Users/annettepaciorek/opt/anaconda3/lib/python3.7/site-packages/flask/app.py\", line 1951, in full_dispatch_request\n",
      "    rv = self.handle_user_exception(e)\n",
      "  File \"/Users/annettepaciorek/opt/anaconda3/lib/python3.7/site-packages/flask/app.py\", line 1820, in handle_user_exception\n",
      "    reraise(exc_type, exc_value, tb)\n",
      "  File \"/Users/annettepaciorek/opt/anaconda3/lib/python3.7/site-packages/flask/_compat.py\", line 39, in reraise\n",
      "    raise value\n",
      "  File \"/Users/annettepaciorek/opt/anaconda3/lib/python3.7/site-packages/flask/app.py\", line 1949, in full_dispatch_request\n",
      "    rv = self.dispatch_request()\n",
      "  File \"/Users/annettepaciorek/opt/anaconda3/lib/python3.7/site-packages/flask/app.py\", line 1935, in dispatch_request\n",
      "    return self.view_functions[rule.endpoint](**req.view_args)\n",
      "  File \"/Users/annettepaciorek/opt/anaconda3/lib/python3.7/site-packages/dash/dash.py\", line 1459, in dispatch\n",
      "    response.set_data(self.callback_map[output][\"callback\"](*args))\n",
      "  File \"/Users/annettepaciorek/opt/anaconda3/lib/python3.7/site-packages/dash/dash.py\", line 1339, in add_context\n",
      "    output_value = func(*args, **kwargs)  # %% callback invoked %%\n",
      "  File \"/Users/annettepaciorek/opt/anaconda3/lib/python3.7/site-packages/dtale/dash_application/views.py\", line 328, in display_page\n",
      "    df = DATA[get_data_id(pathname)]\n",
      "KeyError: '2'\n"
     ]
    },
    {
     "name": "stderr",
     "output_type": "stream",
     "text": [
      "2020-02-29 18:20:55,655 - ERROR    - 500 Internal Server Error: The server encountered an internal error and was unable to complete your request. Either the server is overloaded or there is an error in the application.\n",
      "Traceback (most recent call last):\n",
      "  File \"/Users/annettepaciorek/opt/anaconda3/lib/python3.7/site-packages/flask/app.py\", line 2446, in wsgi_app\n",
      "    response = self.full_dispatch_request()\n",
      "  File \"/Users/annettepaciorek/opt/anaconda3/lib/python3.7/site-packages/flask/app.py\", line 1951, in full_dispatch_request\n",
      "    rv = self.handle_user_exception(e)\n",
      "  File \"/Users/annettepaciorek/opt/anaconda3/lib/python3.7/site-packages/flask/app.py\", line 1820, in handle_user_exception\n",
      "    reraise(exc_type, exc_value, tb)\n",
      "  File \"/Users/annettepaciorek/opt/anaconda3/lib/python3.7/site-packages/flask/_compat.py\", line 39, in reraise\n",
      "    raise value\n",
      "  File \"/Users/annettepaciorek/opt/anaconda3/lib/python3.7/site-packages/flask/app.py\", line 1949, in full_dispatch_request\n",
      "    rv = self.dispatch_request()\n",
      "  File \"/Users/annettepaciorek/opt/anaconda3/lib/python3.7/site-packages/flask/app.py\", line 1935, in dispatch_request\n",
      "    return self.view_functions[rule.endpoint](**req.view_args)\n",
      "  File \"/Users/annettepaciorek/opt/anaconda3/lib/python3.7/site-packages/dash/dash.py\", line 1459, in dispatch\n",
      "    response.set_data(self.callback_map[output][\"callback\"](*args))\n",
      "  File \"/Users/annettepaciorek/opt/anaconda3/lib/python3.7/site-packages/dash/dash.py\", line 1339, in add_context\n",
      "    output_value = func(*args, **kwargs)  # %% callback invoked %%\n",
      "  File \"/Users/annettepaciorek/opt/anaconda3/lib/python3.7/site-packages/dtale/dash_application/views.py\", line 328, in display_page\n",
      "    df = DATA[get_data_id(pathname)]\n",
      "KeyError: '2'\n"
     ]
    }
   ],
   "source": [
    "d = dtale.show(model2_df, notebook = True)"
   ]
  },
  {
   "cell_type": "code",
   "execution_count": null,
   "metadata": {},
   "outputs": [],
   "source": []
  },
  {
   "cell_type": "code",
   "execution_count": null,
   "metadata": {},
   "outputs": [],
   "source": []
  },
  {
   "cell_type": "code",
   "execution_count": null,
   "metadata": {},
   "outputs": [],
   "source": []
  },
  {
   "cell_type": "code",
   "execution_count": null,
   "metadata": {},
   "outputs": [],
   "source": []
  },
  {
   "cell_type": "code",
   "execution_count": null,
   "metadata": {},
   "outputs": [],
   "source": [
    "\n",
    "# dummify Neighborhood column\n",
    "Neighborhood_ohe = OneHotEncoder( drop='first', sparse = False )\n",
    "Neighborhood_enc = Neighborhood_ohe.fit_transform( model2_df[['Neighborhood']] )\n",
    "Neighborhood_enc = pd.DataFrame( Neighborhood_enc, columns=Neighborhood_ohe.get_feature_names(['Neighborhood']) )\n",
    "model2_df = pd.concat( (model2_df.drop([\"Neighborhood\"], axis=1).reset_index(drop = True), Neighborhood_enc), axis = 1 )\n",
    "\n",
    "#dummify Building Type\n",
    "\n",
    "BldgType_clean_ohe = OneHotEncoder( drop='first', sparse = False )\n",
    "BldgType_clean_enc = BldgType_clean_ohe.fit_transform( model2_df[['BldgType_clean']] )\n",
    "BldgType_clean_enc = pd.DataFrame( BldgType_clean_enc, columns=BldgType_clean_ohe.get_feature_names(['BldgType_clean']) )\n",
    "model2_df = pd.concat( (model2_df.drop([\"BldgType_clean\"], axis=1).reset_index(drop = True), BldgType_clean_enc), axis = 1 )\n",
    "\n",
    "\n",
    "#dummify ExterQual\n",
    "\n",
    "ExterQual_ohe = OneHotEncoder( drop='first', sparse = False )\n",
    "ExterQual_enc = ExterQual_ohe.fit_transform( model2_df[['ExterQual']] )\n",
    "ExterQual_enc = pd.DataFrame( ExterQual_enc, columns=ExterQual_ohe.get_feature_names(['ExterQual']) )\n",
    "model2_df = pd.concat( (model2_df.drop([\"ExterQual\"], axis=1).reset_index(drop = True), ExterQual_enc), axis = 1 )\n",
    "\n",
    "\n",
    "\n",
    "#dummify YrSold\n",
    "\n",
    "YrSold_ohe = OneHotEncoder( drop='first', sparse = False )\n",
    "YrSold_enc = YrSold_ohe.fit_transform( model2_df[['YrSold']] )\n",
    "YrSold_enc = pd.DataFrame( YrSold_enc, columns=YrSold_ohe.get_feature_names(['YrSold']) )\n",
    "model2_df = pd.concat( (model2_df.drop([\"YrSold\"], axis=1).reset_index(drop = True), YrSold_enc), axis = 1 )\n",
    "\n",
    "# dummify KitchenQual\n",
    "KitchenQual_ohe = OneHotEncoder( drop='first', sparse = False )\n",
    "KitchenQual_enc = KitchenQual_ohe.fit_transform( model2_df[['KitchenQual']] )\n",
    "KitchenQual_enc = pd.DataFrame( KitchenQual_enc, columns=KitchenQual_ohe.get_feature_names(['KitchenQual']) )\n",
    "model2_df = pd.concat( (model2_df.drop([\"KitchenQual\"], axis=1).reset_index(drop = True), KitchenQual_enc), axis = 1 )\n"
   ]
  }
 ],
 "metadata": {
  "kernelspec": {
   "display_name": "Python 3",
   "language": "python",
   "name": "python3"
  },
  "language_info": {
   "codemirror_mode": {
    "name": "ipython",
    "version": 3
   },
   "file_extension": ".py",
   "mimetype": "text/x-python",
   "name": "python",
   "nbconvert_exporter": "python",
   "pygments_lexer": "ipython3",
   "version": "3.7.4"
  }
 },
 "nbformat": 4,
 "nbformat_minor": 2
}
